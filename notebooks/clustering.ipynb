{
 "cells": [
  {
   "cell_type": "markdown",
   "id": "89407511",
   "metadata": {},
   "source": [
    "# Cross-Cohort Music Recommendation - Clustering\n",
    "\n",
    "Now that you've completed EDA, utilize your insights to select the correct model and subsequently apply machine learning on your dataset.\n",
    "\n"
   ]
  },
  {
   "cell_type": "markdown",
   "id": "88bcc721",
   "metadata": {},
   "source": [
    "## Questions\n",
    "Is this a supervised or unsupervised task? Furthermore are we performing classification or regression?  \n",
    "\n",
    "Answer here"
   ]
  },
  {
   "cell_type": "markdown",
   "id": "9e840c44",
   "metadata": {},
   "source": [
    "Are you predicting for multiple classes or binary classes?  \n",
    "\n",
    "Answer here"
   ]
  },
  {
   "cell_type": "markdown",
   "id": "1e3d4905",
   "metadata": {},
   "source": [
    "Given these observations, which machine learning model will you choose?  \n",
    "\n",
    "Answer here"
   ]
  },
  {
   "cell_type": "markdown",
   "id": "2f08c57f",
   "metadata": {},
   "source": [
    "### 1) Set up your predictors\n",
    "\n",
    "Use your cleaned and transformed dataset to divide your features and labels into training and testing sets. Make sure you’re only using numeric or properly encoded features.  "
   ]
  },
  {
   "cell_type": "code",
   "execution_count": 6,
   "id": "fdc7d076",
   "metadata": {},
   "outputs": [],
   "source": [
    "import pandas as pd\n",
    "import numpy as np\n",
    "\n",
    "import matplotlib.pyplot as plt\n",
    "import seaborn as sns\n",
    "\n",
    "# TODO: import your selected model and its evaluation metrics\n",
    "from sklearn.cluster import KMeans\n",
    "from sklearn.metrics import silhouette_score"
   ]
  },
  {
   "cell_type": "code",
   "execution_count": null,
   "id": "68ce8c36",
   "metadata": {},
   "outputs": [],
   "source": [
    "# TODO: load in dataset\n",
    "...\n",
    "\n",
    "# TODO: select your predictor columns\n",
    "..."
   ]
  },
  {
   "cell_type": "markdown",
   "id": "5af18c74",
   "metadata": {},
   "source": [
    "### 2) Search for best clusters\n",
    "\n",
    "Use tools the elbow method or silhouette score to find the best clusters for your model."
   ]
  },
  {
   "cell_type": "code",
   "execution_count": null,
   "id": "2dd75b0c",
   "metadata": {},
   "outputs": [],
   "source": [
    "..."
   ]
  },
  {
   "cell_type": "markdown",
   "id": "fc8e1b84",
   "metadata": {},
   "source": [
    "### 3) Train your model\n",
    "\n",
    "Select the model with best cluster number and generate predictions on your test set. Evaluate how \"well\" your model clustered songs by evaluating the songs that exist in the same cluster assignments. "
   ]
  },
  {
   "cell_type": "code",
   "execution_count": null,
   "id": "77c64588",
   "metadata": {},
   "outputs": [],
   "source": [
    "..."
   ]
  },
  {
   "cell_type": "code",
   "execution_count": null,
   "id": "bdf41608",
   "metadata": {},
   "outputs": [
    {
     "data": {
      "text/html": [
       "<div>\n",
       "<style scoped>\n",
       "    .dataframe tbody tr th:only-of-type {\n",
       "        vertical-align: middle;\n",
       "    }\n",
       "\n",
       "    .dataframe tbody tr th {\n",
       "        vertical-align: top;\n",
       "    }\n",
       "\n",
       "    .dataframe thead th {\n",
       "        text-align: right;\n",
       "    }\n",
       "</style>\n",
       "<table border=\"1\" class=\"dataframe\">\n",
       "  <thead>\n",
       "    <tr style=\"text-align: right;\">\n",
       "      <th></th>\n",
       "      <th>filename</th>\n",
       "      <th>genre</th>\n",
       "      <th>labels</th>\n",
       "    </tr>\n",
       "  </thead>\n",
       "  <tbody>\n",
       "    <tr>\n",
       "      <th>0</th>\n",
       "      <td>A Fan's Mail</td>\n",
       "      <td>funk</td>\n",
       "      <td>2</td>\n",
       "    </tr>\n",
       "    <tr>\n",
       "      <th>1</th>\n",
       "      <td>Abracadabra</td>\n",
       "      <td>pop</td>\n",
       "      <td>1</td>\n",
       "    </tr>\n",
       "    <tr>\n",
       "      <th>2</th>\n",
       "      <td>Aguas De Marco</td>\n",
       "      <td>bossa nova</td>\n",
       "      <td>0</td>\n",
       "    </tr>\n",
       "    <tr>\n",
       "      <th>3</th>\n",
       "      <td>Another Time</td>\n",
       "      <td>hip hop</td>\n",
       "      <td>2</td>\n",
       "    </tr>\n",
       "    <tr>\n",
       "      <th>4</th>\n",
       "      <td>Belong to the World</td>\n",
       "      <td>hip hop</td>\n",
       "      <td>3</td>\n",
       "    </tr>\n",
       "  </tbody>\n",
       "</table>\n",
       "</div>"
      ],
      "text/plain": [
       "              filename       genre  labels\n",
       "0         A Fan's Mail        funk       2\n",
       "1          Abracadabra         pop       1\n",
       "2       Aguas De Marco  bossa nova       0\n",
       "3         Another Time     hip hop       2\n",
       "4  Belong to the World     hip hop       3"
      ]
     },
     "execution_count": 15,
     "metadata": {},
     "output_type": "execute_result"
    }
   ],
   "source": [
    "# predict your labels on your predictors and assign it to a new column\n",
    "labels = kmeans_music.predict(X)\n",
    "songs[\"labels\"] = labels\n",
    "\n",
    "# view your cluster assignments\n",
    "labeled_music = songs[[\"filename\", \"genre\", \"labels\"]]\n",
    "labeled_music.head()"
   ]
  },
  {
   "cell_type": "code",
   "execution_count": null,
   "id": "d5e5aff1",
   "metadata": {},
   "outputs": [
    {
     "data": {
      "text/html": [
       "<div>\n",
       "<style scoped>\n",
       "    .dataframe tbody tr th:only-of-type {\n",
       "        vertical-align: middle;\n",
       "    }\n",
       "\n",
       "    .dataframe tbody tr th {\n",
       "        vertical-align: top;\n",
       "    }\n",
       "\n",
       "    .dataframe thead th {\n",
       "        text-align: right;\n",
       "    }\n",
       "</style>\n",
       "<table border=\"1\" class=\"dataframe\">\n",
       "  <thead>\n",
       "    <tr style=\"text-align: right;\">\n",
       "      <th></th>\n",
       "      <th>filename</th>\n",
       "      <th>genre</th>\n",
       "      <th>labels</th>\n",
       "    </tr>\n",
       "  </thead>\n",
       "  <tbody>\n",
       "    <tr>\n",
       "      <th>19</th>\n",
       "      <td>Heart of Gold</td>\n",
       "      <td>folk rock</td>\n",
       "      <td>4</td>\n",
       "    </tr>\n",
       "    <tr>\n",
       "      <th>25</th>\n",
       "      <td>It's Possible Again</td>\n",
       "      <td>soundtrack</td>\n",
       "      <td>4</td>\n",
       "    </tr>\n",
       "    <tr>\n",
       "      <th>31</th>\n",
       "      <td>Love theme from the robe</td>\n",
       "      <td>jazz</td>\n",
       "      <td>4</td>\n",
       "    </tr>\n",
       "    <tr>\n",
       "      <th>47</th>\n",
       "      <td>Summer in the City</td>\n",
       "      <td>jazz</td>\n",
       "      <td>4</td>\n",
       "    </tr>\n",
       "    <tr>\n",
       "      <th>54</th>\n",
       "      <td>The Word 2</td>\n",
       "      <td>pop</td>\n",
       "      <td>4</td>\n",
       "    </tr>\n",
       "  </tbody>\n",
       "</table>\n",
       "</div>"
      ],
      "text/plain": [
       "                    filename       genre  labels\n",
       "19             Heart of Gold   folk rock       4\n",
       "25       It's Possible Again  soundtrack       4\n",
       "31  Love theme from the robe        jazz       4\n",
       "47        Summer in the City        jazz       4\n",
       "54                The Word 2         pop       4"
      ]
     },
     "execution_count": 20,
     "metadata": {},
     "output_type": "execute_result"
    }
   ],
   "source": [
    "# view the songs that fall into specific clusters, what sort of insight do you think was captured here?\n",
    "labeled_music[labeled_music[\"labels\"] == 4]"
   ]
  },
  {
   "cell_type": "markdown",
   "id": "7a495ade",
   "metadata": {},
   "source": [
    "Serialize your model and run it in your dashboard via `streamlit run recommender.py`"
   ]
  },
  {
   "cell_type": "code",
   "execution_count": null,
   "id": "64626436",
   "metadata": {},
   "outputs": [
    {
     "data": {
      "text/plain": [
       "['kmeans_model.pkl']"
      ]
     },
     "execution_count": 21,
     "metadata": {},
     "output_type": "execute_result"
    }
   ],
   "source": [
    "# serialize your model\n",
    "import joblib\n",
    "\n",
    "joblib.dump(kmeans_music, \"../kmeans_model.pkl\")"
   ]
  }
 ],
 "metadata": {
  "kernelspec": {
   "display_name": "ds",
   "language": "python",
   "name": "python3"
  },
  "language_info": {
   "codemirror_mode": {
    "name": "ipython",
    "version": 3
   },
   "file_extension": ".py",
   "mimetype": "text/x-python",
   "name": "python",
   "nbconvert_exporter": "python",
   "pygments_lexer": "ipython3",
   "version": "3.12.9"
  }
 },
 "nbformat": 4,
 "nbformat_minor": 5
}
